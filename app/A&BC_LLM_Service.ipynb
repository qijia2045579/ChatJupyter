{
 "cells": [
  {
   "cell_type": "code",
   "execution_count": 2,
   "id": "85e46e40-1916-406d-99ac-9df415fa6308",
   "metadata": {},
   "outputs": [
    {
     "data": {
      "application/vnd.jupyter.widget-view+json": {
       "model_id": "57adec53fdfc4a87ad3824dce3691af6",
       "version_major": 2,
       "version_minor": 0
      },
      "text/plain": [
       "VBox(children=(HBox(children=(HTML(value='\\n<head>\\n\\n<script src=\"https://code.jquery.com/jquery-3.3.1.slim.m…"
      ]
     },
     "metadata": {},
     "output_type": "display_data"
    }
   ],
   "source": [
    "from IPython.display import display\n",
    "from jupyter.interface import jupyter_interface\n",
    "display(jupyter_interface().show())"
   ]
  },
  {
   "cell_type": "code",
   "execution_count": null,
   "id": "71540395-7007-4632-8990-49475cfd0fd4",
   "metadata": {},
   "outputs": [],
   "source": []
  }
 ],
 "metadata": {
  "kernelspec": {
   "display_name": "Python (Local)",
   "language": "python",
   "name": "local-base"
  },
  "language_info": {
   "codemirror_mode": {
    "name": "ipython",
    "version": 3
   },
   "file_extension": ".py",
   "mimetype": "text/x-python",
   "name": "python",
   "nbconvert_exporter": "python",
   "pygments_lexer": "ipython3",
   "version": "3.7.12"
  }
 },
 "nbformat": 4,
 "nbformat_minor": 5
}
